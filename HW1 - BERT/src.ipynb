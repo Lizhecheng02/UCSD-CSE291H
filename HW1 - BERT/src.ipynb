{
 "cells": [
  {
   "cell_type": "markdown",
   "metadata": {},
   "source": [
    "#### This code is based on my previous written code [here](https://www.kaggle.com/code/lizhecheng/96-accuracy-bert-model-nlp-classification)"
   ]
  },
  {
   "cell_type": "code",
   "execution_count": null,
   "metadata": {},
   "outputs": [],
   "source": [
    "import numpy as np \n",
    "import pandas as pd \n",
    "import matplotlib.pyplot as plt\n",
    "import torch \n",
    "import spacy\n",
    "import nltk \n",
    "import string\n",
    "import regex as re \n",
    "import warnings\n",
    "from torch import nn\n",
    "from sklearn.metrics import f1_score\n",
    "from transformers import BertModel, BertTokenizer\n",
    "from nltk.tokenize import word_tokenize\n",
    "from nltk.corpus import stopwords\n",
    "from torch.optim.lr_scheduler import CosineAnnealingLR\n",
    "from tqdm import tqdm\n",
    "from transformers import logging\n",
    "logging.set_verbosity_warning()\n",
    "plt.style.use(\"fivethirtyeight\")\n",
    "warnings.filterwarnings(\"ignore\")"
   ]
  },
  {
   "cell_type": "code",
   "execution_count": null,
   "metadata": {},
   "outputs": [],
   "source": [
    "# Here we use a single RTX4090 GPU to do the training\n",
    "use_cuda = torch.cuda.is_available()\n",
    "device = torch.device(\"cuda\" if use_cuda else \"cpu\")\n",
    "use_cuda, device"
   ]
  },
  {
   "cell_type": "code",
   "execution_count": null,
   "metadata": {},
   "outputs": [],
   "source": [
    "df = pd.read_csv(\"../HomeWork1/nyt.csv\")\n",
    "print(df.shape)\n",
    "df.head()"
   ]
  },
  {
   "cell_type": "code",
   "execution_count": null,
   "metadata": {},
   "outputs": [],
   "source": [
    "plt.figure(figsize=(5, 3))\n",
    "df[\"label\"].value_counts().plot(kind=\"barh\", color=\"green\")\n",
    "plt.show()"
   ]
  },
  {
   "cell_type": "code",
   "execution_count": null,
   "metadata": {},
   "outputs": [],
   "source": [
    "def label_to_number(label):\n",
    "    mapping = {\"business\": 0, \"politics\": 1, \"sports\": 2}\n",
    "    return mapping.get(label, -1)\n",
    "\n",
    "df[\"label\"] = df[\"label\"].apply(label_to_number)"
   ]
  },
  {
   "cell_type": "code",
   "execution_count": null,
   "metadata": {},
   "outputs": [],
   "source": [
    "!python -m spacy download en_core_web_sm\n",
    "sp = spacy.load(\"en_core_web_sm\")\n",
    "\n",
    "nltk.download(\"stopwords\")\n",
    "nltk.download(\"punkt\")\n",
    "\n",
    "spacy_st = sp.Defaults.stop_words\n",
    "nltk_st = stopwords.words(\"english\")"
   ]
  },
  {
   "cell_type": "code",
   "execution_count": null,
   "metadata": {},
   "outputs": [],
   "source": [
    "def clean(text, http=True, punc=True, lem=True, stop_w=True):\n",
    "    if http == True:\n",
    "        text = re.sub(\"https?:\\/\\/t.co\\/[A-Za-z0-9]*\", \"\", text)\n",
    "    if stop_w == True:\n",
    "        text = [word for word in word_tokenize(text) if not word.lower() in nltk_st]\n",
    "        text = \" \".join(text)\n",
    "    if lem == True:\n",
    "        lemmatized = [word.lemma_ for word in sp(text)]\n",
    "        text = \" \".join(lemmatized)\n",
    "    if punc == True:\n",
    "        text = text.translate(str.maketrans(\"\", \"\", string.punctuation))\n",
    "        \n",
    "    text = text.lower()\n",
    "    text = re.sub(r\"what's\", \"what is\", text)\n",
    "    text = re.sub(r\"\\'s\", \" \", text)\n",
    "    text = re.sub(r\"\\'ve\", \" have\", text)\n",
    "    text = re.sub(r\"can't\", \"cannot\", text)\n",
    "    text = re.sub(r\"n't\", \" not\", text)\n",
    "    text = re.sub(r\"i'm\", \"i am\", text)\n",
    "    text = re.sub(r\"im\", \"i am\", text)\n",
    "    text = re.sub(r\"\\'re\", \" are\", text)\n",
    "    text = re.sub(r\"\\'d\", \" would\", text)\n",
    "    text = re.sub(r\"\\'ll\", \" will\", text)\n",
    "    text = re.sub(r\"\\'scuse\", \" excuse\", text)\n",
    "    text = re.sub(\"\\W\", \" \", text)\n",
    "    text = re.sub(\"\\s+\", \" \", text)\n",
    "    text = text.strip(\" \")\n",
    "    \n",
    "    return text"
   ]
  },
  {
   "cell_type": "code",
   "execution_count": null,
   "metadata": {},
   "outputs": [],
   "source": [
    "df[\"cleaned_text\"] = df[\"text\"].apply(lambda text: clean(text, http=True, punc=True, lem=True, stop_w=True))\n",
    "df[\"cleaned_text\"] = df[\"text\"]\n",
    "df.drop(columns=[\"text\"], axis=1, inplace=True)\n",
    "df.head()"
   ]
  },
  {
   "cell_type": "code",
   "execution_count": null,
   "metadata": {},
   "outputs": [],
   "source": [
    "PRE_TRAINED_MODEL_NAME = \"bert-base-uncased\"\n",
    "tokenizer = BertTokenizer.from_pretrained(PRE_TRAINED_MODEL_NAME)\n",
    "\n",
    "df_train, df_val, df_test = np.split(df.sample(frac=1, random_state=42), [int(0.8 * len(df)), int(0.9 * len(df))])\n",
    "print(len(df_train), len(df_val), len(df_test))\n",
    "\n",
    "class Dataset(torch.utils.data.Dataset):\n",
    "    def __init__(self, df, tokenizer, max_length=64):\n",
    "        self.labels = df[\"label\"].to_list()\n",
    "        self.texts = df[\"cleaned_text\"].to_list()\n",
    "        self.tokenizer = tokenizer\n",
    "        self.max_length = max_length\n",
    "\n",
    "    def __len__(self):\n",
    "        return len(self.labels)\n",
    "\n",
    "    def __getitem__(self, idx):\n",
    "        text = self.texts[idx]\n",
    "        label = self.labels[idx]\n",
    "        encoding = self.tokenizer.encode_plus(\n",
    "            text,\n",
    "            max_length=self.max_length,\n",
    "            truncation=True,\n",
    "            padding=\"max_length\",\n",
    "            return_tensors=\"pt\"\n",
    "        )\n",
    "        return {\n",
    "            \"input_ids\": encoding[\"input_ids\"].flatten(),\n",
    "            \"attention_mask\": encoding[\"attention_mask\"].flatten(),\n",
    "            \"label\": torch.tensor(label, dtype=torch.long)\n",
    "        }"
   ]
  },
  {
   "cell_type": "code",
   "execution_count": null,
   "metadata": {},
   "outputs": [],
   "source": [
    "class BertClassifier(nn.Module):\n",
    "    def __init__(self, dropout=0.5, num_classes=3):\n",
    "        super(BertClassifier, self).__init__()\n",
    "        self.bert = BertModel.from_pretrained(PRE_TRAINED_MODEL_NAME)\n",
    "        self.dropout = nn.Dropout(dropout)\n",
    "        self.linear = nn.Linear(self.bert.config.hidden_size, num_classes)\n",
    "        self.relu = nn.ReLU()\n",
    "\n",
    "    def forward(self, input_ids, attention_mask):\n",
    "        pooler_output = self.bert(input_ids=input_ids, attention_mask=attention_mask).pooler_output\n",
    "        dropout_output = self.dropout(pooler_output)\n",
    "        linear_output = self.linear(dropout_output)\n",
    "        final_layer = self.relu(linear_output)\n",
    "        return final_layer\n",
    "    \n",
    "model = BertClassifier()\n",
    "print(model)"
   ]
  },
  {
   "cell_type": "code",
   "execution_count": null,
   "metadata": {},
   "outputs": [],
   "source": [
    "def train(model, train_data, val_data, learning_rate=2e-6, epochs=3, T_max=3):\n",
    "    train = Dataset(df=train_data, tokenizer=tokenizer)\n",
    "    val = Dataset(df=val_data, tokenizer=tokenizer)\n",
    "\n",
    "    train_dataloader = torch.utils.data.DataLoader(train, batch_size=16, shuffle=True)\n",
    "    val_dataloader = torch.utils.data.DataLoader(val, batch_size=16)\n",
    "\n",
    "    class_weights = torch.tensor([2.0, 2.0, 1.0], dtype=torch.float32)\n",
    "    criterion = torch.nn.CrossEntropyLoss(weight=class_weights)\n",
    "    optimizer = torch.optim.Adam(model.parameters(), lr=learning_rate)\n",
    "    scheduler = CosineAnnealingLR(optimizer, T_max=T_max)\n",
    "\n",
    "    if use_cuda:\n",
    "        model = model.cuda()\n",
    "        criterion = criterion.cuda()\n",
    "\n",
    "    for epoch_num in range(epochs):\n",
    "        total_acc_train = 0\n",
    "        total_loss_train = 0\n",
    "        for train_batch in tqdm(train_dataloader, total=len(train_dataloader), desc=f\"Training Epoch: {epoch_num + 1}\"):\n",
    "            input_ids = train_batch[\"input_ids\"].to(device)\n",
    "            attention_mask = train_batch[\"attention_mask\"].to(device)\n",
    "            train_labels = train_batch[\"label\"].to(device)\n",
    "\n",
    "            outputs = model(input_ids, attention_mask)\n",
    "            batch_loss = criterion(outputs, train_labels)\n",
    "            total_loss_train += batch_loss.item()\n",
    "            \n",
    "            acc = (outputs.argmax(dim=1) == train_labels).sum().item()\n",
    "            total_acc_train += acc\n",
    "\n",
    "            model.zero_grad()\n",
    "            batch_loss.backward()\n",
    "            optimizer.step()\n",
    "\n",
    "        scheduler.step()\n",
    "        \n",
    "        total_acc_val = 0\n",
    "        total_loss_val = 0\n",
    "        with torch.no_grad():\n",
    "            for val_batch in tqdm(val_dataloader, total=len(val_dataloader), desc=f\"Validating Epoch: {epoch_num + 1}\"):\n",
    "                input_ids = val_batch[\"input_ids\"].to(device)\n",
    "                attention_mask = val_batch[\"attention_mask\"].to(device)\n",
    "                val_labels = val_batch[\"label\"].to(device)\n",
    "\n",
    "                outputs = model(input_ids, attention_mask)\n",
    "                batch_loss = criterion(outputs, val_labels)\n",
    "                total_loss_val += batch_loss.item()\n",
    "                \n",
    "                acc = (outputs.argmax(dim=1) == val_labels).sum().item()\n",
    "                total_acc_val += acc\n",
    "        \n",
    "        print(f\"Epochs: {epoch_num + 1} | Train Loss: {total_loss_train / len(train_data): .3f} | Train Accuracy: {total_acc_train / len(train_data): .3f} | Val Loss: {total_loss_val / len(val_data): .3f} | Val Accuracy: {total_acc_val / len(val_data): .3f}\")"
   ]
  },
  {
   "cell_type": "code",
   "execution_count": null,
   "metadata": {},
   "outputs": [],
   "source": [
    "train(model, df_train, df_val)"
   ]
  },
  {
   "cell_type": "code",
   "execution_count": null,
   "metadata": {},
   "outputs": [],
   "source": [
    "def evaluate(model, test_data):\n",
    "    test = Dataset(df=test_data, tokenizer=tokenizer)\n",
    "    test_dataloader = torch.utils.data.DataLoader(test, batch_size=16)\n",
    "\n",
    "    if use_cuda:\n",
    "        model = model.cuda()\n",
    "\n",
    "    all_labels = []\n",
    "    all_preds = []\n",
    "\n",
    "    total_acc_test = 0\n",
    "    with torch.no_grad():\n",
    "        for test_batch in tqdm(test_dataloader, total=len(test_dataloader), desc=\"Testing\"):\n",
    "            input_ids = test_batch[\"input_ids\"].to(device)\n",
    "            attention_mask = test_batch[\"attention_mask\"].to(device)\n",
    "            labels = test_batch[\"label\"].to(device)\n",
    "\n",
    "            output = model(input_ids, attention_mask)\n",
    "            preds = output.argmax(dim=1)\n",
    "            acc = (preds == labels).sum().item()\n",
    "            total_acc_test += acc\n",
    "\n",
    "            all_labels.extend(labels.cpu().numpy())\n",
    "            all_preds.extend(preds.cpu().numpy())      \n",
    "        \n",
    "    macro_f1 = f1_score(all_labels, all_preds, average=\"macro\")\n",
    "    micro_f1 = f1_score(all_labels, all_preds, average=\"micro\")\n",
    "    \n",
    "    print(f\"Accuracy Score: {total_acc_test / len(test_data): .3f}\")\n",
    "    print(f\"Macro F1-score: {macro_f1: .3f}\")\n",
    "    print(f\"Micro F1-score: {micro_f1: .3f}\")"
   ]
  },
  {
   "cell_type": "code",
   "execution_count": null,
   "metadata": {},
   "outputs": [],
   "source": [
    "evaluate(model, df_test)"
   ]
  }
 ],
 "metadata": {
  "kernelspec": {
   "display_name": "base",
   "language": "python",
   "name": "python3"
  },
  "language_info": {
   "codemirror_mode": {
    "name": "ipython",
    "version": 3
   },
   "file_extension": ".py",
   "mimetype": "text/x-python",
   "name": "python",
   "nbconvert_exporter": "python",
   "pygments_lexer": "ipython3",
   "version": "3.10.9"
  }
 },
 "nbformat": 4,
 "nbformat_minor": 2
}
