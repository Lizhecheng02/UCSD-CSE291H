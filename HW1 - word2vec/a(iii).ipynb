{
 "cells": [
  {
   "cell_type": "code",
   "execution_count": 1,
   "metadata": {},
   "outputs": [
    {
     "name": "stderr",
     "output_type": "stream",
     "text": [
      "[nltk_data] Downloading package punkt to\n",
      "[nltk_data]     C:\\Users\\86183\\AppData\\Roaming\\nltk_data...\n",
      "[nltk_data]   Package punkt is already up-to-date!\n"
     ]
    }
   ],
   "source": [
    "import pandas as pd\n",
    "import numpy as np\n",
    "import nltk\n",
    "nltk.download(\"punkt\")\n",
    "import warnings\n",
    "from tqdm import tqdm\n",
    "from nltk.tokenize import word_tokenize\n",
    "from gensim.models import Word2Vec\n",
    "from sklearn.model_selection import train_test_split\n",
    "from sklearn.linear_model import LogisticRegression\n",
    "from sklearn.metrics import accuracy_score, f1_score\n",
    "warnings.filterwarnings(\"ignore\")"
   ]
  },
  {
   "cell_type": "code",
   "execution_count": 2,
   "metadata": {},
   "outputs": [
    {
     "name": "stdout",
     "output_type": "stream",
     "text": [
      "(11519, 2)\n"
     ]
    },
    {
     "data": {
      "text/html": [
       "<div>\n",
       "<style scoped>\n",
       "    .dataframe tbody tr th:only-of-type {\n",
       "        vertical-align: middle;\n",
       "    }\n",
       "\n",
       "    .dataframe tbody tr th {\n",
       "        vertical-align: top;\n",
       "    }\n",
       "\n",
       "    .dataframe thead th {\n",
       "        text-align: right;\n",
       "    }\n",
       "</style>\n",
       "<table border=\"1\" class=\"dataframe\">\n",
       "  <thead>\n",
       "    <tr style=\"text-align: right;\">\n",
       "      <th></th>\n",
       "      <th>text</th>\n",
       "      <th>label</th>\n",
       "    </tr>\n",
       "  </thead>\n",
       "  <tbody>\n",
       "    <tr>\n",
       "      <th>0</th>\n",
       "      <td>(reuters) - carlos tevez sealed his move to ju...</td>\n",
       "      <td>sports</td>\n",
       "    </tr>\n",
       "    <tr>\n",
       "      <th>1</th>\n",
       "      <td>if professional pride and strong defiance can ...</td>\n",
       "      <td>sports</td>\n",
       "    </tr>\n",
       "    <tr>\n",
       "      <th>2</th>\n",
       "      <td>palermo, sicily — roberta vinci beat top-seede...</td>\n",
       "      <td>sports</td>\n",
       "    </tr>\n",
       "    <tr>\n",
       "      <th>3</th>\n",
       "      <td>spain's big two soccer teams face a pair of it...</td>\n",
       "      <td>sports</td>\n",
       "    </tr>\n",
       "    <tr>\n",
       "      <th>4</th>\n",
       "      <td>the argentine soccer club san lorenzo complete...</td>\n",
       "      <td>sports</td>\n",
       "    </tr>\n",
       "  </tbody>\n",
       "</table>\n",
       "</div>"
      ],
      "text/plain": [
       "                                                text   label\n",
       "0  (reuters) - carlos tevez sealed his move to ju...  sports\n",
       "1  if professional pride and strong defiance can ...  sports\n",
       "2  palermo, sicily — roberta vinci beat top-seede...  sports\n",
       "3  spain's big two soccer teams face a pair of it...  sports\n",
       "4  the argentine soccer club san lorenzo complete...  sports"
      ]
     },
     "execution_count": 2,
     "metadata": {},
     "output_type": "execute_result"
    }
   ],
   "source": [
    "df = pd.read_csv(\"../HomeWork1/nyt.csv\")\n",
    "print(df.shape)\n",
    "df.head()"
   ]
  },
  {
   "cell_type": "code",
   "execution_count": 3,
   "metadata": {},
   "outputs": [],
   "source": [
    "def split_df(df, train_size=0.8, val_size=0.1, test_size=0.1, random_state=42):\n",
    "    train_df, temp_df = train_test_split(df, test_size=(1 - train_size), random_state=random_state)\n",
    "    val_df, test_df = train_test_split(temp_df, test_size=test_size / (val_size + test_size), random_state=random_state)\n",
    "    return train_df, val_df, test_df"
   ]
  },
  {
   "cell_type": "code",
   "execution_count": 4,
   "metadata": {},
   "outputs": [
    {
     "name": "stdout",
     "output_type": "stream",
     "text": [
      "(9215, 2) (1152, 2) (1152, 2)\n"
     ]
    }
   ],
   "source": [
    "train_df, val_df, test_df = split_df(df)\n",
    "print(train_df.shape, val_df.shape, test_df.shape)"
   ]
  },
  {
   "cell_type": "code",
   "execution_count": 5,
   "metadata": {},
   "outputs": [
    {
     "name": "stdout",
     "output_type": "stream",
     "text": [
      "Word2Vec<vocab=35508, vector_size=100, alpha=0.025>\n",
      "[-1.0416162   0.18334866  0.12383539 -0.48050982 -0.7026071  -1.1532347\n",
      " -1.2419171   0.48496643  3.1954787  -0.4214874  -0.20388718  0.43471718\n",
      "  0.28075793  0.9693965   0.86763453  0.3965662   0.06454255  1.7067114\n",
      " -0.13880144  0.5034888  -0.6254529  -0.04036564  0.19526967 -1.3510127\n",
      "  1.5545214  -1.6280677   1.1216333   0.6142329  -1.2784927   1.3445048\n",
      " -1.5226399   0.42214915 -1.2378969  -0.39638892 -1.060673   -1.2770989\n",
      " -0.623593   -1.2700659  -0.60369855 -0.47306132 -0.7531487   1.4689833\n",
      " -1.9780884  -1.253274   -1.2021307  -0.485089   -0.6596709   1.1529626\n",
      " -0.3232115   0.5829019  -1.3443875   0.3394023  -1.2440597   0.29955727\n",
      "  0.6060392   1.990405   -1.1163043  -0.01249888  0.06906155  0.12027698\n",
      " -0.8558933   0.01860613 -0.9359329   0.8235835   0.07558068  0.30800682\n",
      " -0.6168606   0.52370495  1.7437721  -0.58421487 -2.0887468   0.93057084\n",
      "  0.01498543 -1.842769    0.3629927   1.4401654  -0.70933646  0.11659029\n",
      "  0.03386991 -0.06149593 -0.00428286  1.670454    3.5867689   1.1807845\n",
      "  0.66028184 -0.9519137   1.8844792  -1.5455309   0.2947039   0.01398689\n",
      " -0.2022233  -0.9361275  -0.9662738  -1.207306    1.0457028  -0.8307744\n",
      " -0.38201627  0.9435434  -0.29775292 -0.988419  ]\n"
     ]
    }
   ],
   "source": [
    "sentences = [word_tokenize(text) for text in df[\"text\"].to_list()]\n",
    "word2vec_model = Word2Vec(sentences=sentences, vector_size=100, workers=4)\n",
    "print(word2vec_model)\n",
    "print(word2vec_model.wv[\"the\"])"
   ]
  },
  {
   "cell_type": "code",
   "execution_count": 6,
   "metadata": {},
   "outputs": [
    {
     "name": "stdout",
     "output_type": "stream",
     "text": [
      "['my', 'name', 'is', 'harold', ',', 'his', 'name', 'is', 'eric', '.']\n",
      "['my', 'name', 'is', 'harold,', 'his', 'name', 'is', 'eric.']\n"
     ]
    }
   ],
   "source": [
    "print(word_tokenize(\"My name is Harold, his name is Eric.\".lower()))\n",
    "print(\"My name is Harold, his name is Eric.\".lower().split())"
   ]
  },
  {
   "cell_type": "code",
   "execution_count": 7,
   "metadata": {},
   "outputs": [
    {
     "name": "stdout",
     "output_type": "stream",
     "text": [
      "[-0.517228    0.56496876 -0.0986323   0.14618416 -0.19103324 -0.39312503\n",
      " -0.8727944   0.16834217  0.56237614  0.05324896  0.01504083  0.01773513\n",
      "  0.24637514  0.4778852   0.06364122  0.19974099 -0.2374944   0.6111561\n",
      "  0.54529995 -0.26977777 -0.20932794  0.13732143 -0.07225199 -0.747931\n",
      "  0.3158088  -0.0655231  -0.24442571 -0.08174151 -0.13362762 -0.01768969\n",
      " -0.42705816  0.46687713 -0.3432363  -0.00335126 -0.04861318 -0.08115449\n",
      " -0.5698371  -0.30185637 -0.25638932 -0.186534   -0.4094302   0.7092454\n",
      " -0.71253896 -0.06514558 -0.05280926 -0.23434152 -0.24078602 -0.26695204\n",
      " -0.5088404   0.2785244  -0.10377121  0.2632388  -0.710811    0.24424052\n",
      "  0.09027201  0.6791088  -0.57118154 -0.18673633 -0.06851691 -0.10005376\n",
      "  0.11051986  0.24620014 -0.28959018  0.62808764  0.12944955 -0.10393164\n",
      "  0.23868155  0.40514904  0.24102095  0.33251008 -0.77264965  0.31127632\n",
      " -0.14368619 -0.39738703 -0.2527594   0.816254    0.23013261 -0.32091644\n",
      "  0.21725366  0.28445944 -0.44410545  0.3894466   0.78675365  0.4623046\n",
      "  0.32785568 -0.32215896  0.4931396  -0.19602388  0.16296995 -0.25905192\n",
      " -0.38286826 -0.370407   -0.35548276 -0.5251886   0.40543285 -0.0761113\n",
      "  0.16217674  0.12113706  0.21274565  0.2560652 ]\n"
     ]
    }
   ],
   "source": [
    "def get_text_vector(text, model=word2vec_model):\n",
    "    words = word_tokenize(text.lower())\n",
    "    word_vectors = []\n",
    "    for word in words:\n",
    "        if word.lower() in model.wv.key_to_index:\n",
    "            word_vectors.append(model.wv[word.lower()])\n",
    "        else:\n",
    "            continue\n",
    "    return np.mean(word_vectors, axis=0)\n",
    "\n",
    "example_output = get_text_vector(text=\"The quick brown fox jumps over the lazy dog\")\n",
    "print(example_output)"
   ]
  },
  {
   "cell_type": "code",
   "execution_count": 8,
   "metadata": {},
   "outputs": [
    {
     "name": "stderr",
     "output_type": "stream",
     "text": [
      "100%|██████████| 9215/9215 [00:45<00:00, 202.46it/s]\n",
      "100%|██████████| 1152/1152 [00:05<00:00, 207.39it/s]\n",
      "100%|██████████| 1152/1152 [00:05<00:00, 217.26it/s]"
     ]
    },
    {
     "name": "stdout",
     "output_type": "stream",
     "text": [
      "(9215, 100) (1152, 100) (1152, 100)\n"
     ]
    },
    {
     "name": "stderr",
     "output_type": "stream",
     "text": [
      "\n"
     ]
    }
   ],
   "source": [
    "X_train = np.array([get_text_vector(text) for text in tqdm(train_df[\"text\"].to_list(), total=len(train_df))])\n",
    "X_val = np.array([get_text_vector(text) for text in tqdm(val_df[\"text\"].to_list(), total=len(val_df))])\n",
    "X_test = np.array([get_text_vector(text) for text in tqdm(test_df[\"text\"].to_list(), total=len(test_df))])\n",
    "print(X_train.shape, X_val.shape, X_test.shape)"
   ]
  },
  {
   "cell_type": "code",
   "execution_count": 9,
   "metadata": {},
   "outputs": [
    {
     "data": {
      "text/html": [
       "<style>#sk-container-id-1 {color: black;}#sk-container-id-1 pre{padding: 0;}#sk-container-id-1 div.sk-toggleable {background-color: white;}#sk-container-id-1 label.sk-toggleable__label {cursor: pointer;display: block;width: 100%;margin-bottom: 0;padding: 0.3em;box-sizing: border-box;text-align: center;}#sk-container-id-1 label.sk-toggleable__label-arrow:before {content: \"▸\";float: left;margin-right: 0.25em;color: #696969;}#sk-container-id-1 label.sk-toggleable__label-arrow:hover:before {color: black;}#sk-container-id-1 div.sk-estimator:hover label.sk-toggleable__label-arrow:before {color: black;}#sk-container-id-1 div.sk-toggleable__content {max-height: 0;max-width: 0;overflow: hidden;text-align: left;background-color: #f0f8ff;}#sk-container-id-1 div.sk-toggleable__content pre {margin: 0.2em;color: black;border-radius: 0.25em;background-color: #f0f8ff;}#sk-container-id-1 input.sk-toggleable__control:checked~div.sk-toggleable__content {max-height: 200px;max-width: 100%;overflow: auto;}#sk-container-id-1 input.sk-toggleable__control:checked~label.sk-toggleable__label-arrow:before {content: \"▾\";}#sk-container-id-1 div.sk-estimator input.sk-toggleable__control:checked~label.sk-toggleable__label {background-color: #d4ebff;}#sk-container-id-1 div.sk-label input.sk-toggleable__control:checked~label.sk-toggleable__label {background-color: #d4ebff;}#sk-container-id-1 input.sk-hidden--visually {border: 0;clip: rect(1px 1px 1px 1px);clip: rect(1px, 1px, 1px, 1px);height: 1px;margin: -1px;overflow: hidden;padding: 0;position: absolute;width: 1px;}#sk-container-id-1 div.sk-estimator {font-family: monospace;background-color: #f0f8ff;border: 1px dotted black;border-radius: 0.25em;box-sizing: border-box;margin-bottom: 0.5em;}#sk-container-id-1 div.sk-estimator:hover {background-color: #d4ebff;}#sk-container-id-1 div.sk-parallel-item::after {content: \"\";width: 100%;border-bottom: 1px solid gray;flex-grow: 1;}#sk-container-id-1 div.sk-label:hover label.sk-toggleable__label {background-color: #d4ebff;}#sk-container-id-1 div.sk-serial::before {content: \"\";position: absolute;border-left: 1px solid gray;box-sizing: border-box;top: 0;bottom: 0;left: 50%;z-index: 0;}#sk-container-id-1 div.sk-serial {display: flex;flex-direction: column;align-items: center;background-color: white;padding-right: 0.2em;padding-left: 0.2em;position: relative;}#sk-container-id-1 div.sk-item {position: relative;z-index: 1;}#sk-container-id-1 div.sk-parallel {display: flex;align-items: stretch;justify-content: center;background-color: white;position: relative;}#sk-container-id-1 div.sk-item::before, #sk-container-id-1 div.sk-parallel-item::before {content: \"\";position: absolute;border-left: 1px solid gray;box-sizing: border-box;top: 0;bottom: 0;left: 50%;z-index: -1;}#sk-container-id-1 div.sk-parallel-item {display: flex;flex-direction: column;z-index: 1;position: relative;background-color: white;}#sk-container-id-1 div.sk-parallel-item:first-child::after {align-self: flex-end;width: 50%;}#sk-container-id-1 div.sk-parallel-item:last-child::after {align-self: flex-start;width: 50%;}#sk-container-id-1 div.sk-parallel-item:only-child::after {width: 0;}#sk-container-id-1 div.sk-dashed-wrapped {border: 1px dashed gray;margin: 0 0.4em 0.5em 0.4em;box-sizing: border-box;padding-bottom: 0.4em;background-color: white;}#sk-container-id-1 div.sk-label label {font-family: monospace;font-weight: bold;display: inline-block;line-height: 1.2em;}#sk-container-id-1 div.sk-label-container {text-align: center;}#sk-container-id-1 div.sk-container {/* jupyter's `normalize.less` sets `[hidden] { display: none; }` but bootstrap.min.css set `[hidden] { display: none !important; }` so we also need the `!important` here to be able to override the default hidden behavior on the sphinx rendered scikit-learn.org. See: https://github.com/scikit-learn/scikit-learn/issues/21755 */display: inline-block !important;position: relative;}#sk-container-id-1 div.sk-text-repr-fallback {display: none;}</style><div id=\"sk-container-id-1\" class=\"sk-top-container\"><div class=\"sk-text-repr-fallback\"><pre>LogisticRegression(max_iter=2000)</pre><b>In a Jupyter environment, please rerun this cell to show the HTML representation or trust the notebook. <br />On GitHub, the HTML representation is unable to render, please try loading this page with nbviewer.org.</b></div><div class=\"sk-container\" hidden><div class=\"sk-item\"><div class=\"sk-estimator sk-toggleable\"><input class=\"sk-toggleable__control sk-hidden--visually\" id=\"sk-estimator-id-1\" type=\"checkbox\" checked><label for=\"sk-estimator-id-1\" class=\"sk-toggleable__label sk-toggleable__label-arrow\">LogisticRegression</label><div class=\"sk-toggleable__content\"><pre>LogisticRegression(max_iter=2000)</pre></div></div></div></div></div>"
      ],
      "text/plain": [
       "LogisticRegression(max_iter=2000)"
      ]
     },
     "execution_count": 9,
     "metadata": {},
     "output_type": "execute_result"
    }
   ],
   "source": [
    "model = LogisticRegression(max_iter=2000)\n",
    "model.fit(X_train, train_df[\"label\"])"
   ]
  },
  {
   "cell_type": "code",
   "execution_count": 10,
   "metadata": {},
   "outputs": [
    {
     "name": "stdout",
     "output_type": "stream",
     "text": [
      "Accuracy Score: 0.9791666666666666\n",
      "Macro F1-Score: 0.9449580503303382\n",
      "Micro F1-Score: 0.9791666666666666\n"
     ]
    }
   ],
   "source": [
    "test_preds = model.predict(X_test)\n",
    "accuracy = accuracy_score(test_df[\"label\"], test_preds)\n",
    "macro_f1 = f1_score(test_df[\"label\"], test_preds, average=\"macro\")\n",
    "micro_f1 = f1_score(test_df[\"label\"], test_preds, average=\"micro\")\n",
    "\n",
    "print(f\"Accuracy Score: {accuracy}\")\n",
    "print(f\"Macro F1-Score: {macro_f1}\")\n",
    "print(f\"Micro F1-Score: {micro_f1}\")"
   ]
  }
 ],
 "metadata": {
  "kernelspec": {
   "display_name": "base",
   "language": "python",
   "name": "python3"
  },
  "language_info": {
   "codemirror_mode": {
    "name": "ipython",
    "version": 3
   },
   "file_extension": ".py",
   "mimetype": "text/x-python",
   "name": "python",
   "nbconvert_exporter": "python",
   "pygments_lexer": "ipython3",
   "version": "3.10.9"
  }
 },
 "nbformat": 4,
 "nbformat_minor": 2
}
