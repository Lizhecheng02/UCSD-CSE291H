{
 "cells": [
  {
   "cell_type": "markdown",
   "metadata": {},
   "source": [
    "### Here we train Word2Vec on NYT text data"
   ]
  },
  {
   "cell_type": "code",
   "execution_count": 1,
   "metadata": {},
   "outputs": [
    {
     "name": "stderr",
     "output_type": "stream",
     "text": [
      "[nltk_data] Downloading package punkt to\n",
      "[nltk_data]     C:\\Users\\86183\\AppData\\Roaming\\nltk_data...\n",
      "[nltk_data]   Package punkt is already up-to-date!\n"
     ]
    }
   ],
   "source": [
    "import pandas as pd\n",
    "import numpy as np\n",
    "import nltk\n",
    "nltk.download(\"punkt\")\n",
    "import warnings\n",
    "from tqdm import tqdm\n",
    "from nltk.tokenize import word_tokenize\n",
    "from gensim.models import Word2Vec\n",
    "from sklearn.model_selection import train_test_split\n",
    "from sklearn.linear_model import LogisticRegression\n",
    "from sklearn.metrics import accuracy_score, f1_score\n",
    "warnings.filterwarnings(\"ignore\")"
   ]
  },
  {
   "cell_type": "code",
   "execution_count": 2,
   "metadata": {},
   "outputs": [
    {
     "name": "stdout",
     "output_type": "stream",
     "text": [
      "(11519, 2)\n"
     ]
    },
    {
     "data": {
      "text/html": [
       "<div>\n",
       "<style scoped>\n",
       "    .dataframe tbody tr th:only-of-type {\n",
       "        vertical-align: middle;\n",
       "    }\n",
       "\n",
       "    .dataframe tbody tr th {\n",
       "        vertical-align: top;\n",
       "    }\n",
       "\n",
       "    .dataframe thead th {\n",
       "        text-align: right;\n",
       "    }\n",
       "</style>\n",
       "<table border=\"1\" class=\"dataframe\">\n",
       "  <thead>\n",
       "    <tr style=\"text-align: right;\">\n",
       "      <th></th>\n",
       "      <th>text</th>\n",
       "      <th>label</th>\n",
       "    </tr>\n",
       "  </thead>\n",
       "  <tbody>\n",
       "    <tr>\n",
       "      <th>0</th>\n",
       "      <td>(reuters) - carlos tevez sealed his move to ju...</td>\n",
       "      <td>sports</td>\n",
       "    </tr>\n",
       "    <tr>\n",
       "      <th>1</th>\n",
       "      <td>if professional pride and strong defiance can ...</td>\n",
       "      <td>sports</td>\n",
       "    </tr>\n",
       "    <tr>\n",
       "      <th>2</th>\n",
       "      <td>palermo, sicily — roberta vinci beat top-seede...</td>\n",
       "      <td>sports</td>\n",
       "    </tr>\n",
       "    <tr>\n",
       "      <th>3</th>\n",
       "      <td>spain's big two soccer teams face a pair of it...</td>\n",
       "      <td>sports</td>\n",
       "    </tr>\n",
       "    <tr>\n",
       "      <th>4</th>\n",
       "      <td>the argentine soccer club san lorenzo complete...</td>\n",
       "      <td>sports</td>\n",
       "    </tr>\n",
       "  </tbody>\n",
       "</table>\n",
       "</div>"
      ],
      "text/plain": [
       "                                                text   label\n",
       "0  (reuters) - carlos tevez sealed his move to ju...  sports\n",
       "1  if professional pride and strong defiance can ...  sports\n",
       "2  palermo, sicily — roberta vinci beat top-seede...  sports\n",
       "3  spain's big two soccer teams face a pair of it...  sports\n",
       "4  the argentine soccer club san lorenzo complete...  sports"
      ]
     },
     "execution_count": 2,
     "metadata": {},
     "output_type": "execute_result"
    }
   ],
   "source": [
    "df = pd.read_csv(\"../HomeWork1/nyt.csv\")\n",
    "print(df.shape)\n",
    "df.head()"
   ]
  },
  {
   "cell_type": "code",
   "execution_count": 3,
   "metadata": {},
   "outputs": [],
   "source": [
    "def split_df(df, train_size=0.8, val_size=0.1, test_size=0.1, random_state=42):\n",
    "    train_df, temp_df = train_test_split(df, test_size=(1 - train_size), random_state=random_state)\n",
    "    val_df, test_df = train_test_split(temp_df, test_size=test_size / (val_size + test_size), random_state=random_state)\n",
    "    return train_df, val_df, test_df"
   ]
  },
  {
   "cell_type": "code",
   "execution_count": 4,
   "metadata": {},
   "outputs": [
    {
     "name": "stdout",
     "output_type": "stream",
     "text": [
      "(9215, 2) (1152, 2) (1152, 2)\n"
     ]
    }
   ],
   "source": [
    "train_df, val_df, test_df = split_df(df)\n",
    "print(train_df.shape, val_df.shape, test_df.shape)"
   ]
  },
  {
   "cell_type": "code",
   "execution_count": 5,
   "metadata": {},
   "outputs": [
    {
     "name": "stdout",
     "output_type": "stream",
     "text": [
      "Word2Vec<vocab=35508, vector_size=100, alpha=0.025>\n",
      "[-0.98873585  0.49433428  0.40309918 -1.2855661  -0.34429535 -1.2613112\n",
      " -0.59216666  0.71640193  1.2102641   0.07631939 -1.0763141   1.4029491\n",
      "  0.08356473  0.41038522 -0.2248113  -0.15321697 -1.6010284   1.478717\n",
      "  0.43298462  0.8611422  -0.5972456  -1.0075772   0.7550502  -1.7212527\n",
      " -0.56475    -0.713476    0.11836907  0.28333202 -0.19581261 -1.1341335\n",
      " -2.315132   -0.4860049  -0.1890143  -0.5286839  -0.84020776 -1.7614639\n",
      " -0.4680763  -0.46225917 -1.0978154   0.45884764 -1.4882401   2.3127851\n",
      " -1.6026542  -1.3228048  -0.7439097  -1.3139895  -2.1649127   0.7282601\n",
      " -1.779592    0.82029796 -1.7768297   0.2617958  -1.6438801  -0.2783948\n",
      "  0.13875754  0.555435   -0.10405042  0.10079765  1.122897    1.0319557\n",
      " -2.394965    1.2388946  -0.4605088   0.8228644  -1.0701007  -0.1431481\n",
      "  0.589052    0.9460849   0.6271815  -0.4243667   0.20020293  0.39818084\n",
      " -1.0054387  -1.2314249   0.78806126  0.18573251  0.48054144 -0.6443031\n",
      "  0.636108   -1.7771072   1.5832193  -0.5801415   2.4709208   1.0266277\n",
      "  0.39967206 -1.1423774   1.5378338  -2.549298   -0.12418053  0.25168532\n",
      "  0.36712343 -0.24829821 -0.371914    1.287707    0.6840874  -0.19284011\n",
      " -0.91781235 -0.93674445 -0.90605336 -1.2644343 ]\n"
     ]
    }
   ],
   "source": [
    "sentences = [word_tokenize(text) for text in df[\"text\"].to_list()]\n",
    "word2vec_model = Word2Vec(sentences=sentences, vector_size=100, workers=4)\n",
    "print(word2vec_model)\n",
    "print(word2vec_model.wv[\"the\"])"
   ]
  },
  {
   "cell_type": "code",
   "execution_count": 6,
   "metadata": {},
   "outputs": [
    {
     "name": "stdout",
     "output_type": "stream",
     "text": [
      "['my', 'name', 'is', 'harold', ',', 'his', 'name', 'is', 'eric', '.']\n",
      "['my', 'name', 'is', 'harold,', 'his', 'name', 'is', 'eric.']\n"
     ]
    }
   ],
   "source": [
    "print(word_tokenize(\"My name is Harold, his name is Eric.\".lower()))\n",
    "print(\"My name is Harold, his name is Eric.\".lower().split())"
   ]
  },
  {
   "cell_type": "code",
   "execution_count": 7,
   "metadata": {},
   "outputs": [
    {
     "name": "stdout",
     "output_type": "stream",
     "text": [
      "[-0.31371582  0.68195236 -0.05648704 -0.45202738 -0.38125566 -0.09965655\n",
      " -0.58942425  0.3481      0.18919852 -0.14432994 -0.18112245  0.48153818\n",
      "  0.1226997   0.3949361  -0.13666695  0.2023481  -0.52558947  0.29105726\n",
      "  0.73829573 -0.07363337  0.00397359 -0.22169575  0.1694851  -0.9146741\n",
      " -0.10271254  0.10780057 -0.34557164  0.1663874  -0.08909501 -0.48319256\n",
      " -0.28389338 -0.07607589 -0.04169292  0.20866835  0.05320869 -0.2786562\n",
      " -0.37283635 -0.21385774 -0.59960103 -0.02219326 -0.36592335  0.78262734\n",
      " -0.7231324  -0.33232576 -0.0500223  -0.02275046 -0.2770918   0.03521188\n",
      " -0.88551724 -0.00911321 -0.10779153 -0.06084993 -0.5034465  -0.39745152\n",
      "  0.2779511   0.01099059 -0.38512647 -0.14703695  0.3232696   0.34821028\n",
      " -0.75181365  0.7619026  -0.2039565   0.6900088  -0.3080208  -0.10369025\n",
      "  0.64018387  0.4010274  -0.26243737  0.40674508  0.01597267  0.03060122\n",
      " -0.4100045  -0.27370414  0.04224857  0.5678412   0.34098825 -0.37036216\n",
      "  0.02192982 -0.40252602  0.29577386  0.00398679  0.3057562   0.44782162\n",
      "  0.2052864  -0.26475522  0.31562343 -0.19873524  0.02291927  0.16485286\n",
      " -0.29129463 -0.08840159  0.3011686   0.14778036  0.35073602  0.10945603\n",
      "  0.1878236  -0.29473862 -0.13785289  0.1889941 ]\n"
     ]
    }
   ],
   "source": [
    "def get_text_vector(text, model=word2vec_model):\n",
    "    words = word_tokenize(text.lower())\n",
    "    word_vectors = []\n",
    "    for word in words:\n",
    "        if word.lower() in model.wv.key_to_index:\n",
    "            word_vectors.append(model.wv[word.lower()])\n",
    "        else:\n",
    "            continue\n",
    "    return np.mean(word_vectors, axis=0)\n",
    "\n",
    "example_output = get_text_vector(text=\"The quick brown fox jumps over the lazy dog\")\n",
    "print(example_output)"
   ]
  },
  {
   "cell_type": "code",
   "execution_count": 8,
   "metadata": {},
   "outputs": [
    {
     "name": "stderr",
     "output_type": "stream",
     "text": [
      "100%|█████████████████████████████████████████████████████████████████████████████| 9215/9215 [00:43<00:00, 210.11it/s]\n",
      "100%|█████████████████████████████████████████████████████████████████████████████| 1152/1152 [00:05<00:00, 213.17it/s]\n",
      "100%|█████████████████████████████████████████████████████████████████████████████| 1152/1152 [00:05<00:00, 206.58it/s]"
     ]
    },
    {
     "name": "stdout",
     "output_type": "stream",
     "text": [
      "(9215, 100) (1152, 100) (1152, 100)\n"
     ]
    },
    {
     "name": "stderr",
     "output_type": "stream",
     "text": [
      "\n"
     ]
    }
   ],
   "source": [
    "X_train = np.array([get_text_vector(text) for text in tqdm(train_df[\"text\"].to_list(), total=len(train_df))])\n",
    "X_val = np.array([get_text_vector(text) for text in tqdm(val_df[\"text\"].to_list(), total=len(val_df))])\n",
    "X_test = np.array([get_text_vector(text) for text in tqdm(test_df[\"text\"].to_list(), total=len(test_df))])\n",
    "print(X_train.shape, X_val.shape, X_test.shape)"
   ]
  },
  {
   "cell_type": "code",
   "execution_count": 9,
   "metadata": {},
   "outputs": [
    {
     "data": {
      "text/html": [
       "<style>#sk-container-id-1 {color: black;}#sk-container-id-1 pre{padding: 0;}#sk-container-id-1 div.sk-toggleable {background-color: white;}#sk-container-id-1 label.sk-toggleable__label {cursor: pointer;display: block;width: 100%;margin-bottom: 0;padding: 0.3em;box-sizing: border-box;text-align: center;}#sk-container-id-1 label.sk-toggleable__label-arrow:before {content: \"▸\";float: left;margin-right: 0.25em;color: #696969;}#sk-container-id-1 label.sk-toggleable__label-arrow:hover:before {color: black;}#sk-container-id-1 div.sk-estimator:hover label.sk-toggleable__label-arrow:before {color: black;}#sk-container-id-1 div.sk-toggleable__content {max-height: 0;max-width: 0;overflow: hidden;text-align: left;background-color: #f0f8ff;}#sk-container-id-1 div.sk-toggleable__content pre {margin: 0.2em;color: black;border-radius: 0.25em;background-color: #f0f8ff;}#sk-container-id-1 input.sk-toggleable__control:checked~div.sk-toggleable__content {max-height: 200px;max-width: 100%;overflow: auto;}#sk-container-id-1 input.sk-toggleable__control:checked~label.sk-toggleable__label-arrow:before {content: \"▾\";}#sk-container-id-1 div.sk-estimator input.sk-toggleable__control:checked~label.sk-toggleable__label {background-color: #d4ebff;}#sk-container-id-1 div.sk-label input.sk-toggleable__control:checked~label.sk-toggleable__label {background-color: #d4ebff;}#sk-container-id-1 input.sk-hidden--visually {border: 0;clip: rect(1px 1px 1px 1px);clip: rect(1px, 1px, 1px, 1px);height: 1px;margin: -1px;overflow: hidden;padding: 0;position: absolute;width: 1px;}#sk-container-id-1 div.sk-estimator {font-family: monospace;background-color: #f0f8ff;border: 1px dotted black;border-radius: 0.25em;box-sizing: border-box;margin-bottom: 0.5em;}#sk-container-id-1 div.sk-estimator:hover {background-color: #d4ebff;}#sk-container-id-1 div.sk-parallel-item::after {content: \"\";width: 100%;border-bottom: 1px solid gray;flex-grow: 1;}#sk-container-id-1 div.sk-label:hover label.sk-toggleable__label {background-color: #d4ebff;}#sk-container-id-1 div.sk-serial::before {content: \"\";position: absolute;border-left: 1px solid gray;box-sizing: border-box;top: 0;bottom: 0;left: 50%;z-index: 0;}#sk-container-id-1 div.sk-serial {display: flex;flex-direction: column;align-items: center;background-color: white;padding-right: 0.2em;padding-left: 0.2em;position: relative;}#sk-container-id-1 div.sk-item {position: relative;z-index: 1;}#sk-container-id-1 div.sk-parallel {display: flex;align-items: stretch;justify-content: center;background-color: white;position: relative;}#sk-container-id-1 div.sk-item::before, #sk-container-id-1 div.sk-parallel-item::before {content: \"\";position: absolute;border-left: 1px solid gray;box-sizing: border-box;top: 0;bottom: 0;left: 50%;z-index: -1;}#sk-container-id-1 div.sk-parallel-item {display: flex;flex-direction: column;z-index: 1;position: relative;background-color: white;}#sk-container-id-1 div.sk-parallel-item:first-child::after {align-self: flex-end;width: 50%;}#sk-container-id-1 div.sk-parallel-item:last-child::after {align-self: flex-start;width: 50%;}#sk-container-id-1 div.sk-parallel-item:only-child::after {width: 0;}#sk-container-id-1 div.sk-dashed-wrapped {border: 1px dashed gray;margin: 0 0.4em 0.5em 0.4em;box-sizing: border-box;padding-bottom: 0.4em;background-color: white;}#sk-container-id-1 div.sk-label label {font-family: monospace;font-weight: bold;display: inline-block;line-height: 1.2em;}#sk-container-id-1 div.sk-label-container {text-align: center;}#sk-container-id-1 div.sk-container {/* jupyter's `normalize.less` sets `[hidden] { display: none; }` but bootstrap.min.css set `[hidden] { display: none !important; }` so we also need the `!important` here to be able to override the default hidden behavior on the sphinx rendered scikit-learn.org. See: https://github.com/scikit-learn/scikit-learn/issues/21755 */display: inline-block !important;position: relative;}#sk-container-id-1 div.sk-text-repr-fallback {display: none;}</style><div id=\"sk-container-id-1\" class=\"sk-top-container\"><div class=\"sk-text-repr-fallback\"><pre>LogisticRegression(max_iter=2000)</pre><b>In a Jupyter environment, please rerun this cell to show the HTML representation or trust the notebook. <br />On GitHub, the HTML representation is unable to render, please try loading this page with nbviewer.org.</b></div><div class=\"sk-container\" hidden><div class=\"sk-item\"><div class=\"sk-estimator sk-toggleable\"><input class=\"sk-toggleable__control sk-hidden--visually\" id=\"sk-estimator-id-1\" type=\"checkbox\" checked><label for=\"sk-estimator-id-1\" class=\"sk-toggleable__label sk-toggleable__label-arrow\">LogisticRegression</label><div class=\"sk-toggleable__content\"><pre>LogisticRegression(max_iter=2000)</pre></div></div></div></div></div>"
      ],
      "text/plain": [
       "LogisticRegression(max_iter=2000)"
      ]
     },
     "execution_count": 9,
     "metadata": {},
     "output_type": "execute_result"
    }
   ],
   "source": [
    "model = LogisticRegression(max_iter=2000)\n",
    "model.fit(X_train, train_df[\"label\"])"
   ]
  },
  {
   "cell_type": "code",
   "execution_count": 10,
   "metadata": {},
   "outputs": [
    {
     "name": "stdout",
     "output_type": "stream",
     "text": [
      "The results on the validation set are:\n",
      "Accuracy Score: 0.9774305555555556\n",
      "Macro F1-Score: 0.9441482885197297\n",
      "Micro F1-Score: 0.9774305555555556\n"
     ]
    }
   ],
   "source": [
    "val_preds = model.predict(X_val)\n",
    "accuracy = accuracy_score(val_df[\"label\"], val_preds)\n",
    "macro_f1 = f1_score(val_df[\"label\"], val_preds, average=\"macro\")\n",
    "micro_f1 = f1_score(val_df[\"label\"], val_preds, average=\"micro\")\n",
    "\n",
    "print(\"The results on the validation set are:\")\n",
    "print(f\"Accuracy Score: {accuracy}\")\n",
    "print(f\"Macro F1-Score: {macro_f1}\")\n",
    "print(f\"Micro F1-Score: {micro_f1}\")"
   ]
  },
  {
   "cell_type": "code",
   "execution_count": 11,
   "metadata": {},
   "outputs": [
    {
     "name": "stdout",
     "output_type": "stream",
     "text": [
      "The results on the test set are:\n",
      "Accuracy Score: 0.9765625\n",
      "Macro F1-Score: 0.938796461403518\n",
      "Micro F1-Score: 0.9765625\n"
     ]
    }
   ],
   "source": [
    "test_preds = model.predict(X_test)\n",
    "accuracy = accuracy_score(test_df[\"label\"], test_preds)\n",
    "macro_f1 = f1_score(test_df[\"label\"], test_preds, average=\"macro\")\n",
    "micro_f1 = f1_score(test_df[\"label\"], test_preds, average=\"micro\")\n",
    "\n",
    "print(\"The results on the test set are:\")\n",
    "print(f\"Accuracy Score: {accuracy}\")\n",
    "print(f\"Macro F1-Score: {macro_f1}\")\n",
    "print(f\"Micro F1-Score: {micro_f1}\")"
   ]
  },
  {
   "cell_type": "markdown",
   "metadata": {},
   "source": [
    "### When comparing the three groups of results through trained embeddings with naive vectorizer results, we can find that using naive vectorizers perform better here."
   ]
  },
  {
   "cell_type": "markdown",
   "metadata": {},
   "source": [
    "**What are the disadvantages of averaging word vectors for the document representation? Describe an idea to overcome this. The document vectors should be formed using word vectors.**\n",
    "\n",
    "(i) Averaging word vectors does not consider the importance of different words in a single text. For example, the word 'the' is usually less important than the word 'cat'. We can assign a weight to each word vector, perhaps according to the frequency of the word in the text.\n",
    "\n",
    "(ii) Averaging word vectors does not consider the position of different words in the text. For example, the word 'cat' is more important in the sentence 'The cat is on the mat' than in the sentence 'The mat is on the cat'. We can assign a positional embedding to each word based on its position."
   ]
  }
 ],
 "metadata": {
  "kernelspec": {
   "display_name": "base",
   "language": "python",
   "name": "python3"
  },
  "language_info": {
   "codemirror_mode": {
    "name": "ipython",
    "version": 3
   },
   "file_extension": ".py",
   "mimetype": "text/x-python",
   "name": "python",
   "nbconvert_exporter": "python",
   "pygments_lexer": "ipython3",
   "version": "3.10.9"
  }
 },
 "nbformat": 4,
 "nbformat_minor": 2
}
