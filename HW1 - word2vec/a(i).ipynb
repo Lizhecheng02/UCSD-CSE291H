{
 "cells": [
  {
   "cell_type": "code",
   "execution_count": 1,
   "metadata": {},
   "outputs": [],
   "source": [
    "import pandas as pd\n",
    "import numpy as np\n",
    "import warnings\n",
    "from tqdm import tqdm\n",
    "from nltk.tokenize import word_tokenize\n",
    "from sklearn.model_selection import train_test_split\n",
    "from sklearn.linear_model import LogisticRegression\n",
    "from sklearn.metrics import accuracy_score, f1_score\n",
    "warnings.filterwarnings(\"ignore\")"
   ]
  },
  {
   "cell_type": "code",
   "execution_count": 2,
   "metadata": {},
   "outputs": [
    {
     "name": "stdout",
     "output_type": "stream",
     "text": [
      "the -0.038194 -0.24487 0.72812 -0.39961 0.083172 0.043953 -0.39141 0.3344 -0.57545 0.087459 0.28787 -0.06731 0.30906 -0.26384 -0.13231 -0.20757 0.33395 -0.33848 -0.31743 -0.48336 0.1464 -0.37304 0.34577 0.052041 0.44946 -0.46971 0.02628 -0.54155 -0.15518 -0.14107 -0.039722 0.28277 0.14393 0.23464 -0.31021 0.086173 0.20397 0.52624 0.17164 -0.082378 -0.71787 -0.41531 0.20335 -0.12763 0.41367 0.55187 0.57908 -0.33477 -0.36559 -0.54857 -0.062892 0.26584 0.30205 0.99775 -0.80481 -3.0243 0.01254 -0.36942 2.2167 0.72201 -0.24978 0.92136 0.034514 0.46745 1.1079 -0.19358 -0.074575 0.23353 -0.052062 -0.22044 0.057162 -0.15806 -0.30798 -0.41625 0.37972 0.15006 -0.53212 -0.2055 -1.2526 0.071624 0.70565 0.49744 -0.42063 0.26148 -1.538 -0.30223 -0.073438 -0.28312 0.37104 -0.25217 0.016215 -0.017099 -0.38984 0.87424 -0.72569 -0.51058 -0.52028 -0.1459 0.8278 0.27062\n",
      "\n",
      "101\n"
     ]
    }
   ],
   "source": [
    "with open(\"./glove.6B.100d.txt\", \"r\", encoding=\"utf-8\") as f:\n",
    "    for line in f:\n",
    "        print(line)\n",
    "        print(len(line.split()))\n",
    "        break"
   ]
  },
  {
   "cell_type": "code",
   "execution_count": 3,
   "metadata": {},
   "outputs": [
    {
     "name": "stderr",
     "output_type": "stream",
     "text": [
      "400000it [00:12, 32445.76it/s]\n"
     ]
    }
   ],
   "source": [
    "def word_to_vec(file_path):\n",
    "    word_to_vec_dict = {}\n",
    "    with open(file_path, \"r\", encoding=\"utf-8\") as f:\n",
    "        for line in tqdm(f):\n",
    "            word = line.split()[0]\n",
    "            vec = np.asarray(line.split()[1:], dtype=np.float32)\n",
    "            word_to_vec_dict[word] = vec\n",
    "    return word_to_vec_dict\n",
    "\n",
    "word_to_vec_dict = word_to_vec(file_path=\"./glove.6B.100d.txt\")"
   ]
  },
  {
   "cell_type": "code",
   "execution_count": 4,
   "metadata": {},
   "outputs": [
    {
     "name": "stdout",
     "output_type": "stream",
     "text": [
      "[ 2.87502278e-02 -6.51510060e-02  3.31091106e-01 -4.65650022e-01\n",
      " -1.79282770e-01  5.00148870e-02 -6.74657822e-02  2.93085665e-01\n",
      " -4.20005530e-01 -2.09980220e-01  1.18867978e-01  9.45621207e-02\n",
      "  1.61200345e-01 -7.45707601e-02  2.20839977e-01  1.99698880e-01\n",
      "  4.31055576e-02 -1.07728437e-01  1.78297553e-02  1.98184326e-01\n",
      "  2.81547785e-01  2.24947765e-01  3.28172296e-02 -2.90016443e-01\n",
      "  4.13814664e-01  3.59294564e-01 -2.95193315e-01 -1.26943544e-01\n",
      " -7.11237863e-02 -2.37333775e-03 -1.77993402e-02  4.76056635e-01\n",
      "  1.99063331e-01  7.71860033e-02  1.24151111e-01  4.49099541e-01\n",
      " -1.90441445e-01  1.91278994e-01  2.64772445e-01  1.70821011e-01\n",
      " -3.66676509e-01 -3.35269988e-01 -1.83722213e-01 -1.31598890e-01\n",
      " -1.80422217e-01  9.14322138e-02 -1.41331568e-01 -2.28241235e-01\n",
      "  1.93425551e-01 -4.44583297e-01 -7.90063441e-02 -2.48832256e-02\n",
      "  4.97954451e-02  1.00680113e+00 -2.23647222e-01 -2.10082221e+00\n",
      "  8.81746970e-03  7.20399991e-02  1.16461897e+00  2.81475812e-01\n",
      "  2.61449553e-02  5.31745315e-01 -7.09933368e-03  7.97628462e-02\n",
      "  7.67555535e-01  3.91502231e-02  1.16196208e-01  1.95038885e-01\n",
      "  5.20872176e-02 -3.52126770e-02 -3.89668435e-01  1.17085548e-03\n",
      " -2.17010230e-01 -4.82877716e-02  2.28276193e-01  6.87985942e-02\n",
      " -5.31505585e-01  4.59861085e-02 -4.71956253e-01  4.55186665e-02\n",
      "  4.66898918e-01  1.07083336e-01 -2.23803207e-01 -2.98751667e-02\n",
      " -9.47955668e-01 -4.66314435e-01  1.04440399e-01  2.02988163e-02\n",
      "  1.12930328e-01 -2.38190651e-01  4.50225584e-02 -1.38818115e-01\n",
      " -3.04366678e-01  2.91491330e-01 -5.35370588e-01 -3.57169479e-01\n",
      " -4.40753341e-01 -4.72072177e-02  3.66066158e-01  1.97498873e-02]\n"
     ]
    }
   ],
   "source": [
    "def get_text_vector(text, word_dict=word_to_vec_dict):\n",
    "    words = word_tokenize(text.lower())\n",
    "    word_vectors = []\n",
    "    for word in words:\n",
    "        if word.lower() in word_dict:\n",
    "            word_vectors.append(word_dict[word.lower()])\n",
    "        else:\n",
    "            continue\n",
    "    return np.mean(word_vectors, axis=0)\n",
    "\n",
    "example_output = get_text_vector(text=\"The quick brown fox jumps over the lazy dog\")\n",
    "print(example_output)"
   ]
  },
  {
   "cell_type": "code",
   "execution_count": 5,
   "metadata": {},
   "outputs": [
    {
     "name": "stdout",
     "output_type": "stream",
     "text": [
      "(11519, 2)\n"
     ]
    },
    {
     "data": {
      "text/html": [
       "<div>\n",
       "<style scoped>\n",
       "    .dataframe tbody tr th:only-of-type {\n",
       "        vertical-align: middle;\n",
       "    }\n",
       "\n",
       "    .dataframe tbody tr th {\n",
       "        vertical-align: top;\n",
       "    }\n",
       "\n",
       "    .dataframe thead th {\n",
       "        text-align: right;\n",
       "    }\n",
       "</style>\n",
       "<table border=\"1\" class=\"dataframe\">\n",
       "  <thead>\n",
       "    <tr style=\"text-align: right;\">\n",
       "      <th></th>\n",
       "      <th>text</th>\n",
       "      <th>label</th>\n",
       "    </tr>\n",
       "  </thead>\n",
       "  <tbody>\n",
       "    <tr>\n",
       "      <th>0</th>\n",
       "      <td>(reuters) - carlos tevez sealed his move to ju...</td>\n",
       "      <td>sports</td>\n",
       "    </tr>\n",
       "    <tr>\n",
       "      <th>1</th>\n",
       "      <td>if professional pride and strong defiance can ...</td>\n",
       "      <td>sports</td>\n",
       "    </tr>\n",
       "    <tr>\n",
       "      <th>2</th>\n",
       "      <td>palermo, sicily — roberta vinci beat top-seede...</td>\n",
       "      <td>sports</td>\n",
       "    </tr>\n",
       "    <tr>\n",
       "      <th>3</th>\n",
       "      <td>spain's big two soccer teams face a pair of it...</td>\n",
       "      <td>sports</td>\n",
       "    </tr>\n",
       "    <tr>\n",
       "      <th>4</th>\n",
       "      <td>the argentine soccer club san lorenzo complete...</td>\n",
       "      <td>sports</td>\n",
       "    </tr>\n",
       "  </tbody>\n",
       "</table>\n",
       "</div>"
      ],
      "text/plain": [
       "                                                text   label\n",
       "0  (reuters) - carlos tevez sealed his move to ju...  sports\n",
       "1  if professional pride and strong defiance can ...  sports\n",
       "2  palermo, sicily — roberta vinci beat top-seede...  sports\n",
       "3  spain's big two soccer teams face a pair of it...  sports\n",
       "4  the argentine soccer club san lorenzo complete...  sports"
      ]
     },
     "execution_count": 5,
     "metadata": {},
     "output_type": "execute_result"
    }
   ],
   "source": [
    "df = pd.read_csv(\"../HomeWork1/nyt.csv\")\n",
    "print(df.shape)\n",
    "df.head()"
   ]
  },
  {
   "cell_type": "code",
   "execution_count": 6,
   "metadata": {},
   "outputs": [],
   "source": [
    "def split_df(df, train_size=0.8, val_size=0.1, test_size=0.1, random_state=42):\n",
    "    train_df, temp_df = train_test_split(df, test_size=(1 - train_size), random_state=random_state)\n",
    "    val_df, test_df = train_test_split(temp_df, test_size=test_size / (val_size + test_size), random_state=random_state)\n",
    "    return train_df, val_df, test_df"
   ]
  },
  {
   "cell_type": "code",
   "execution_count": 7,
   "metadata": {},
   "outputs": [
    {
     "name": "stdout",
     "output_type": "stream",
     "text": [
      "(9215, 2) (1152, 2) (1152, 2)\n"
     ]
    }
   ],
   "source": [
    "train_df, val_df, test_df = split_df(df)\n",
    "print(train_df.shape, val_df.shape, test_df.shape)"
   ]
  },
  {
   "cell_type": "code",
   "execution_count": 8,
   "metadata": {},
   "outputs": [
    {
     "name": "stderr",
     "output_type": "stream",
     "text": [
      "100%|██████████| 9215/9215 [00:39<00:00, 232.25it/s]\n",
      "100%|██████████| 1152/1152 [00:04<00:00, 271.30it/s]\n",
      "100%|██████████| 1152/1152 [00:04<00:00, 264.03it/s]"
     ]
    },
    {
     "name": "stdout",
     "output_type": "stream",
     "text": [
      "(9215, 100) (1152, 100) (1152, 100)\n"
     ]
    },
    {
     "name": "stderr",
     "output_type": "stream",
     "text": [
      "\n"
     ]
    }
   ],
   "source": [
    "X_train = np.array([get_text_vector(text, word_to_vec_dict) for text in tqdm(train_df[\"text\"].to_list(), total=len(train_df))])\n",
    "X_val = np.array([get_text_vector(text, word_to_vec_dict) for text in tqdm(val_df[\"text\"].to_list(), total=len(val_df))])\n",
    "X_test = np.array([get_text_vector(text, word_to_vec_dict) for text in tqdm(test_df[\"text\"].to_list(), total=len(test_df))])\n",
    "print(X_train.shape, X_val.shape, X_test.shape)"
   ]
  },
  {
   "cell_type": "code",
   "execution_count": 9,
   "metadata": {},
   "outputs": [
    {
     "data": {
      "text/html": [
       "<style>#sk-container-id-1 {color: black;}#sk-container-id-1 pre{padding: 0;}#sk-container-id-1 div.sk-toggleable {background-color: white;}#sk-container-id-1 label.sk-toggleable__label {cursor: pointer;display: block;width: 100%;margin-bottom: 0;padding: 0.3em;box-sizing: border-box;text-align: center;}#sk-container-id-1 label.sk-toggleable__label-arrow:before {content: \"▸\";float: left;margin-right: 0.25em;color: #696969;}#sk-container-id-1 label.sk-toggleable__label-arrow:hover:before {color: black;}#sk-container-id-1 div.sk-estimator:hover label.sk-toggleable__label-arrow:before {color: black;}#sk-container-id-1 div.sk-toggleable__content {max-height: 0;max-width: 0;overflow: hidden;text-align: left;background-color: #f0f8ff;}#sk-container-id-1 div.sk-toggleable__content pre {margin: 0.2em;color: black;border-radius: 0.25em;background-color: #f0f8ff;}#sk-container-id-1 input.sk-toggleable__control:checked~div.sk-toggleable__content {max-height: 200px;max-width: 100%;overflow: auto;}#sk-container-id-1 input.sk-toggleable__control:checked~label.sk-toggleable__label-arrow:before {content: \"▾\";}#sk-container-id-1 div.sk-estimator input.sk-toggleable__control:checked~label.sk-toggleable__label {background-color: #d4ebff;}#sk-container-id-1 div.sk-label input.sk-toggleable__control:checked~label.sk-toggleable__label {background-color: #d4ebff;}#sk-container-id-1 input.sk-hidden--visually {border: 0;clip: rect(1px 1px 1px 1px);clip: rect(1px, 1px, 1px, 1px);height: 1px;margin: -1px;overflow: hidden;padding: 0;position: absolute;width: 1px;}#sk-container-id-1 div.sk-estimator {font-family: monospace;background-color: #f0f8ff;border: 1px dotted black;border-radius: 0.25em;box-sizing: border-box;margin-bottom: 0.5em;}#sk-container-id-1 div.sk-estimator:hover {background-color: #d4ebff;}#sk-container-id-1 div.sk-parallel-item::after {content: \"\";width: 100%;border-bottom: 1px solid gray;flex-grow: 1;}#sk-container-id-1 div.sk-label:hover label.sk-toggleable__label {background-color: #d4ebff;}#sk-container-id-1 div.sk-serial::before {content: \"\";position: absolute;border-left: 1px solid gray;box-sizing: border-box;top: 0;bottom: 0;left: 50%;z-index: 0;}#sk-container-id-1 div.sk-serial {display: flex;flex-direction: column;align-items: center;background-color: white;padding-right: 0.2em;padding-left: 0.2em;position: relative;}#sk-container-id-1 div.sk-item {position: relative;z-index: 1;}#sk-container-id-1 div.sk-parallel {display: flex;align-items: stretch;justify-content: center;background-color: white;position: relative;}#sk-container-id-1 div.sk-item::before, #sk-container-id-1 div.sk-parallel-item::before {content: \"\";position: absolute;border-left: 1px solid gray;box-sizing: border-box;top: 0;bottom: 0;left: 50%;z-index: -1;}#sk-container-id-1 div.sk-parallel-item {display: flex;flex-direction: column;z-index: 1;position: relative;background-color: white;}#sk-container-id-1 div.sk-parallel-item:first-child::after {align-self: flex-end;width: 50%;}#sk-container-id-1 div.sk-parallel-item:last-child::after {align-self: flex-start;width: 50%;}#sk-container-id-1 div.sk-parallel-item:only-child::after {width: 0;}#sk-container-id-1 div.sk-dashed-wrapped {border: 1px dashed gray;margin: 0 0.4em 0.5em 0.4em;box-sizing: border-box;padding-bottom: 0.4em;background-color: white;}#sk-container-id-1 div.sk-label label {font-family: monospace;font-weight: bold;display: inline-block;line-height: 1.2em;}#sk-container-id-1 div.sk-label-container {text-align: center;}#sk-container-id-1 div.sk-container {/* jupyter's `normalize.less` sets `[hidden] { display: none; }` but bootstrap.min.css set `[hidden] { display: none !important; }` so we also need the `!important` here to be able to override the default hidden behavior on the sphinx rendered scikit-learn.org. See: https://github.com/scikit-learn/scikit-learn/issues/21755 */display: inline-block !important;position: relative;}#sk-container-id-1 div.sk-text-repr-fallback {display: none;}</style><div id=\"sk-container-id-1\" class=\"sk-top-container\"><div class=\"sk-text-repr-fallback\"><pre>LogisticRegression(max_iter=2000)</pre><b>In a Jupyter environment, please rerun this cell to show the HTML representation or trust the notebook. <br />On GitHub, the HTML representation is unable to render, please try loading this page with nbviewer.org.</b></div><div class=\"sk-container\" hidden><div class=\"sk-item\"><div class=\"sk-estimator sk-toggleable\"><input class=\"sk-toggleable__control sk-hidden--visually\" id=\"sk-estimator-id-1\" type=\"checkbox\" checked><label for=\"sk-estimator-id-1\" class=\"sk-toggleable__label sk-toggleable__label-arrow\">LogisticRegression</label><div class=\"sk-toggleable__content\"><pre>LogisticRegression(max_iter=2000)</pre></div></div></div></div></div>"
      ],
      "text/plain": [
       "LogisticRegression(max_iter=2000)"
      ]
     },
     "execution_count": 9,
     "metadata": {},
     "output_type": "execute_result"
    }
   ],
   "source": [
    "model = LogisticRegression(max_iter=2000)\n",
    "model.fit(X_train, train_df[\"label\"])"
   ]
  },
  {
   "cell_type": "code",
   "execution_count": 10,
   "metadata": {},
   "outputs": [
    {
     "name": "stdout",
     "output_type": "stream",
     "text": [
      "Accuracy Score: 0.9713541666666666\n",
      "Macro F1-Score: 0.9246996279169749\n",
      "Micro F1-Score: 0.9713541666666666\n"
     ]
    }
   ],
   "source": [
    "test_preds = model.predict(X_test)\n",
    "accuracy = accuracy_score(test_df[\"label\"], test_preds)\n",
    "macro_f1 = f1_score(test_df[\"label\"], test_preds, average=\"macro\")\n",
    "micro_f1 = f1_score(test_df[\"label\"], test_preds, average=\"micro\")\n",
    "\n",
    "print(f\"Accuracy Score: {accuracy}\")\n",
    "print(f\"Macro F1-Score: {macro_f1}\")\n",
    "print(f\"Micro F1-Score: {micro_f1}\")"
   ]
  }
 ],
 "metadata": {
  "kernelspec": {
   "display_name": "base",
   "language": "python",
   "name": "python3"
  },
  "language_info": {
   "codemirror_mode": {
    "name": "ipython",
    "version": 3
   },
   "file_extension": ".py",
   "mimetype": "text/x-python",
   "name": "python",
   "nbconvert_exporter": "python",
   "pygments_lexer": "ipython3",
   "version": "3.10.9"
  }
 },
 "nbformat": 4,
 "nbformat_minor": 2
}
