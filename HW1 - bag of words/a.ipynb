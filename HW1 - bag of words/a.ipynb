{
 "cells": [
  {
   "cell_type": "code",
   "execution_count": 1,
   "metadata": {},
   "outputs": [],
   "source": [
    "import pandas as pd\n",
    "import matplotlib.pyplot as plt\n",
    "import warnings\n",
    "from sklearn.model_selection import train_test_split\n",
    "from sklearn.feature_extraction.text import CountVectorizer\n",
    "from sklearn.linear_model import LogisticRegression\n",
    "from sklearn.metrics import accuracy_score, f1_score\n",
    "warnings.filterwarnings(\"ignore\")"
   ]
  },
  {
   "cell_type": "code",
   "execution_count": null,
   "metadata": {},
   "outputs": [],
   "source": [
    "df = pd.read_csv(\"../HomeWork1/nyt.csv\")\n",
    "print(df.shape)\n",
    "df.head()"
   ]
  },
  {
   "cell_type": "code",
   "execution_count": null,
   "metadata": {},
   "outputs": [],
   "source": [
    "plt.figure(figsize=(5, 3))\n",
    "df[\"label\"].value_counts().plot(kind=\"barh\", color=\"green\")\n",
    "plt.show()"
   ]
  },
  {
   "cell_type": "code",
   "execution_count": 4,
   "metadata": {},
   "outputs": [],
   "source": [
    "def split_df(df, train_size=0.8, val_size=0.1, test_size=0.1, random_state=42):\n",
    "    train_df, temp_df = train_test_split(df, test_size=(1 - train_size), random_state=random_state)\n",
    "    val_df, test_df = train_test_split(temp_df, test_size=test_size / (val_size + test_size), random_state=random_state)\n",
    "    return train_df, val_df, test_df"
   ]
  },
  {
   "cell_type": "code",
   "execution_count": null,
   "metadata": {},
   "outputs": [],
   "source": [
    "train_df, val_df, test_df = split_df(df)\n",
    "print(train_df.shape, val_df.shape, test_df.shape)"
   ]
  },
  {
   "cell_type": "code",
   "execution_count": 6,
   "metadata": {},
   "outputs": [],
   "source": [
    "vectorizer = CountVectorizer(binary=True)\n",
    "X_train = vectorizer.fit_transform(train_df[\"text\"])\n",
    "X_val = vectorizer.transform(val_df[\"text\"])\n",
    "X_test = vectorizer.transform(test_df[\"text\"])"
   ]
  },
  {
   "cell_type": "code",
   "execution_count": null,
   "metadata": {},
   "outputs": [],
   "source": [
    "print(X_train.shape, X_val.shape, X_test.shape)"
   ]
  },
  {
   "cell_type": "code",
   "execution_count": null,
   "metadata": {},
   "outputs": [],
   "source": [
    "model = LogisticRegression(max_iter=2000)\n",
    "model.fit(X_train, train_df[\"label\"])"
   ]
  },
  {
   "cell_type": "code",
   "execution_count": null,
   "metadata": {},
   "outputs": [],
   "source": [
    "val_preds = model.predict(X_val)\n",
    "accuracy = accuracy_score(val_df[\"label\"], val_preds)\n",
    "macro_f1 = f1_score(val_df[\"label\"], val_preds, average=\"macro\")\n",
    "micro_f1 = f1_score(val_df[\"label\"], val_preds, average=\"micro\")\n",
    "\n",
    "print(\"The results on the validation set are:\")\n",
    "print(f\"Accuracy Score: {accuracy}\")\n",
    "print(f\"Macro F1-Score: {macro_f1}\")\n",
    "print(f\"Micro F1-Score: {micro_f1}\")"
   ]
  },
  {
   "cell_type": "code",
   "execution_count": null,
   "metadata": {},
   "outputs": [],
   "source": [
    "test_preds = model.predict(X_test)\n",
    "accuracy = accuracy_score(test_df[\"label\"], test_preds)\n",
    "macro_f1 = f1_score(test_df[\"label\"], test_preds, average=\"macro\")\n",
    "micro_f1 = f1_score(test_df[\"label\"], test_preds, average=\"micro\")\n",
    "\n",
    "print(\"The results on the test set are:\")\n",
    "print(f\"Accuracy Score: {accuracy}\")\n",
    "print(f\"Macro F1-Score: {macro_f1}\")\n",
    "print(f\"Micro F1-Score: {micro_f1}\")"
   ]
  }
 ],
 "metadata": {
  "kernelspec": {
   "display_name": "base",
   "language": "python",
   "name": "python3"
  },
  "language_info": {
   "codemirror_mode": {
    "name": "ipython",
    "version": 3
   },
   "file_extension": ".py",
   "mimetype": "text/x-python",
   "name": "python",
   "nbconvert_exporter": "python",
   "pygments_lexer": "ipython3",
   "version": "3.10.9"
  }
 },
 "nbformat": 4,
 "nbformat_minor": 2
}
